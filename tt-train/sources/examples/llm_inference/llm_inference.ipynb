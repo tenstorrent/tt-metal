{
 "cells": [
  {
   "cell_type": "code",
   "execution_count": 5,
   "id": "a7a20c4d",
   "metadata": {},
   "outputs": [],
   "source": [
    "# pip install tokenizers safetensors\n",
    "\n",
    "import os, sys, math, random, textwrap\n",
    "import numpy as np\n",
    "import matplotlib.pyplot as plt\n",
    "from dataclasses import dataclass\n",
    "from typing import List, Tuple, Dict, Optional\n",
    "from transformers import GPT2Tokenizer\n",
    "from yaml import safe_load, Loader\n",
    "\n",
    "sys.path.append(f\"{os.environ['TT_METAL_HOME']}/tt-train/build/sources/ttml\")\n",
    "import _ttml as ttml\n",
    "\n",
    "def set_seed(seed: int = 42):\n",
    "    random.seed(seed)\n",
    "    np.random.seed(seed)\n",
    "\n",
    "set_seed()\n",
    "# Change working directory to TT_METAL_HOME\n",
    "os.chdir(os.environ['TT_METAL_HOME'])\n",
    "\n",
    "@dataclass\n",
    "class TransformerConfig:\n",
    "    n_head: int = 12\n",
    "    embed_dim: int = 768\n",
    "    dropout: float = 0.2\n",
    "    n_blocks : int = 12\n",
    "    vocab_size: int = 96\n",
    "    max_seq_len: int = 1024\n",
    "    runner_type: str = \"memory_efficient\"\n",
    "    weight_tying: str = \"enabled\""
   ]
  },
  {
   "cell_type": "code",
   "execution_count": 6,
   "id": "ea71a9df",
   "metadata": {},
   "outputs": [
    {
     "name": "stdout",
     "output_type": "stream",
     "text": [
      "/home/ubuntu/tt-metal\n"
     ]
    }
   ],
   "source": [
    "tokenizer = GPT2Tokenizer.from_pretrained(\"gpt2\")\n",
    "print(os.getcwd())\n",
    "transformer_cfg = safe_load(open(\"tt-train/configs/training_shakespeare_gpt2s.yaml\", \"r\"))[\"training_config\"][\"transformer_config\"]"
   ]
  },
  {
   "cell_type": "code",
   "execution_count": 23,
   "id": "26b353af",
   "metadata": {},
   "outputs": [],
   "source": [
    "def build_causal_mask(T: int) -> ttml.autograd.Tensor:\n",
    "    # [1,1,T,T] float32 with 1s for allowed positions (i >= j), else 0\n",
    "    m = np.tril(np.ones((T, T), dtype=np.float32))\n",
    "    return ttml.autograd.Tensor.from_numpy(m.reshape(1, 1, T, T), ttml.Layout.TILE, ttml.autograd.DataType.FLOAT32)\n",
    "\n"
   ]
  },
  {
   "cell_type": "code",
   "execution_count": 13,
   "id": "bd89028f",
   "metadata": {},
   "outputs": [
    {
     "name": "stdout",
     "output_type": "stream",
     "text": [
      "Warning: vocab size 50257 is not multiple of 32, padding for tilizing.\n",
      "Transformer configuration:\n",
      "    Vocab size: 50257\n",
      "    Max sequence length: 1024\n",
      "    Embedding dim: 768\n",
      "    Num heads: 12\n",
      "    Dropout probability: 0.2\n",
      "    Num blocks: 12\n",
      "    Positional embedding type: Trainable\n",
      "    Runner type: Default\n",
      "    Composite layernorm: false\n",
      "    Weight tying: Disabled\n"
     ]
    },
    {
     "data": {
      "text/plain": [
       "<_ttml.models.gpt2.GPT2Transformer at 0x7fa15177cc70>"
      ]
     },
     "execution_count": 13,
     "metadata": {},
     "output_type": "execute_result"
    }
   ],
   "source": [
    "def create_model(cfg, vocab_size: int, seq_len: int):\n",
    "    # GPT2 config via your bindings\n",
    "    gcfg = ttml.models.gpt2.GPT2TransformerConfig()\n",
    "    gcfg.num_heads = cfg[\"num_heads\"]\n",
    "    gcfg.embedding_dim = cfg[\"embedding_dim\"]\n",
    "    gcfg.num_blocks = cfg[\"num_blocks\"]\n",
    "    gcfg.vocab_size = int(vocab_size)\n",
    "    gcfg.max_sequence_length = seq_len\n",
    "    gcfg.dropout_prob = cfg[\"dropout_prob\"]\n",
    "    # optional flags exist (runner_type, weight_tying, positional_embedding_type, experimental, ...)\n",
    "    # we keep defaults for a minimal demo\n",
    "\n",
    "    model = ttml.models.gpt2.create_gpt2_model(gcfg)\n",
    "    return model\n",
    "\n",
    "vocab_size = tokenizer.vocab_size\n",
    "\n",
    "if vocab_size % 32 != 0:\n",
    "    print(f\"Warning: vocab size {vocab_size} is not multiple of 32, padding for tilizing.\")\n",
    "    padded_vocab_size = ((tokenizer.vocab_size + 31) // 32) * 32\n",
    "\n",
    "model = create_model(transformer_cfg, vocab_size, transformer_cfg[\"max_sequence_length\"])\n",
    "model\n"
   ]
  },
  {
   "cell_type": "code",
   "execution_count": 37,
   "id": "d8beb647",
   "metadata": {},
   "outputs": [
    {
     "name": "stdout",
     "output_type": "stream",
     "text": [
      "2025-09-29 22:05:09.952 | critical |          Always | Broadcasting rule violation for rank -1, dim a: 50257, dim b: 50272 (assert.hpp:103)\n"
     ]
    },
    {
     "ename": "RuntimeError",
     "evalue": "TT_FATAL @ /home/ubuntu/tt-metal/ttnn/cpp/ttnn/operations/eltwise/binary_ng/device/binary_ng_device_operation.cpp:301: a_dim == b_dim || a_dim == 1 || b_dim == 1\ninfo:\nBroadcasting rule violation for rank -1, dim a: 50257, dim b: 50272\nbacktrace:\n --- /home/ubuntu/tt-metal/build/lib/_ttnncpp.so(+0xaae4bb) [0x7fa14db4e4bb]\n --- ttnn::operations::binary_ng::BinaryNgDeviceOperation::validate_on_program_cache_hit(ttnn::operations::binary_ng::BinaryNgDeviceOperation::operation_attributes_t const&, ttnn::operations::binary_ng::BinaryNgDeviceOperation::tensor_args_t const&)\n --- ttnn::operations::binary_ng::BinaryNgDeviceOperation::validate_on_program_cache_miss(ttnn::operations::binary_ng::BinaryNgDeviceOperation::operation_attributes_t const&, ttnn::operations::binary_ng::BinaryNgDeviceOperation::tensor_args_t const&)\n --- /home/ubuntu/tt-metal/build/lib/_ttnncpp.so(_ZN4ttnn16device_operation6detail29launch_operation_with_adapterINS0_26MeshDeviceOperationAdapterINS_10operations9binary_ng23BinaryNgDeviceOperationEEEEEvRKNT_22operation_attributes_tERKNS8_13tensor_args_tERNS8_21tensor_return_value_tEPN2tt8tt_metal11distributed10MeshDeviceE+0x1af) [0x7fa14db081cf]\n --- ttnn::operations::binary_ng::BinaryNgDeviceOperation::tensor_return_value_t ttnn::device_operation::detail::launch_on_device<ttnn::operations::binary_ng::BinaryNgDeviceOperation>(ttnn::operations::binary_ng::BinaryNgDeviceOperation::operation_attributes_t const&, ttnn::operations::binary_ng::BinaryNgDeviceOperation::tensor_args_t const&)\n --- ttnn::operations::binary_ng::BinaryNgDeviceOperation::tensor_return_value_t ttnn::device_operation::detail::invoke<ttnn::operations::binary_ng::BinaryNgDeviceOperation>(ttnn::operations::binary_ng::BinaryNgDeviceOperation::operation_attributes_t const&, ttnn::operations::binary_ng::BinaryNgDeviceOperation::tensor_args_t const&)\n --- /home/ubuntu/tt-metal/build/lib/_ttnncpp.so(+0xa6789d) [0x7fa14db0789d]\n --- /home/ubuntu/tt-metal/build/lib/_ttnncpp.so(+0xa67524) [0x7fa14db07524]\n --- /home/ubuntu/tt-metal/build/lib/_ttnncpp.so(+0xa4ac67) [0x7fa14daeac67]\n --- ttnn::operations::binary::BinaryOperation<(ttnn::operations::binary::BinaryOpType)1>::invoke(tt::tt_metal::Tensor const&, tt::tt_metal::Tensor const&, std::optional<tt::tt_metal::DataType const> const&, std::optional<tt::tt_metal::MemoryConfig> const&, std::optional<tt::tt_metal::Tensor> const&, std::span<ttnn::operations::unary::BasicUnaryWithParam<float, int, unsigned int> const, 18446744073709551615ul>, std::span<ttnn::operations::unary::BasicUnaryWithParam<float, int, unsigned int> const, 18446744073709551615ul>, std::span<ttnn::operations::unary::BasicUnaryWithParam<float, int, unsigned int> const, 18446744073709551615ul>, std::optional<bool> const&)\n --- /home/ubuntu/tt-metal/tt-train/build/sources/ttml/_ttml.cpython-310-x86_64-linux-gnu.so(_ZNK4ttnn10decorators22registered_operation_tIXtlN7reflect6v1_2_512fixed_stringIcLm14EEEtlA15_cLc116ELc116ELc110ELc110ELc58ELc58ELc115ELc117ELc98ELc116ELc114ELc97ELc99ELc116EEEENS_10operations6binary15BinaryOperationILNS8_12BinaryOpTypeE1EEEE16invoke_compositeIJRN2tt8tt_metal6TensorESH_EEEDaDpOT_+0x10c) [0x7fa1503207ec]\n --- /home/ubuntu/tt-metal/tt-train/build/sources/ttml/_ttml.cpython-310-x86_64-linux-gnu.so(_ZNK4ttnn10decorators22registered_operation_tIXtlN7reflect6v1_2_512fixed_stringIcLm14EEEtlA15_cLc116ELc116ELc110ELc110ELc58ELc58ELc115ELc117ELc98ELc116ELc114ELc97ELc99ELc116EEEENS_10operations6binary15BinaryOperationILNS8_12BinaryOpTypeE1EEEE6invokeIJRN2tt8tt_metal6TensorESH_EEEDaDpOT_+0x30) [0x7fa1503206d0]\n --- /home/ubuntu/tt-metal/tt-train/build/sources/ttml/_ttml.cpython-310-x86_64-linux-gnu.so(_ZNK4ttnn10decorators22registered_operation_tIXtlN7reflect6v1_2_512fixed_stringIcLm14EEEtlA15_cLc116ELc116ELc110ELc110ELc58ELc58ELc115ELc117ELc98ELc116ELc114ELc97ELc99ELc116EEEENS_10operations6binary15BinaryOperationILNS8_12BinaryOpTypeE1EEEE13traced_invokeIJRN2tt8tt_metal6TensorESH_EEEDaDpOT_+0x89) [0x7fa150320639]\n --- /home/ubuntu/tt-metal/tt-train/build/sources/ttml/_ttml.cpython-310-x86_64-linux-gnu.so(_ZNK4ttnn10decorators22registered_operation_tIXtlN7reflect6v1_2_512fixed_stringIcLm14EEEtlA15_cLc116ELc116ELc110ELc110ELc58ELc58ELc115ELc117ELc98ELc116ELc114ELc97ELc99ELc116EEEENS_10operations6binary15BinaryOperationILNS8_12BinaryOpTypeE1EEEEclIJRN2tt8tt_metal6TensorESH_EEEDaDpOT_+0x30) [0x7fa15031f480]\n --- ttml::ttnn_fixed::sample(tt::tt_metal::Tensor const&, float, unsigned int, std::optional<tt::tt_metal::Tensor>)\n --- ttml::ops::sample_op(std::shared_ptr<ttml::autograd::Tensor> const&, float, unsigned int, std::shared_ptr<ttml::autograd::Tensor> const&)\n --- /home/ubuntu/tt-metal/tt-train/build/sources/ttml/_ttml.cpython-310-x86_64-linux-gnu.so(+0x55b28f) [0x7fa15025228f]\n --- /home/ubuntu/tt-metal/tt-train/build/sources/ttml/libnanobind.so(+0x1471c) [0x7fa25c85a71c]\n --- /home/ubuntu/.tenstorrent-venv/bin/python(_PyEval_EvalFrameDefault+0x5603) [0x5602a2f45763]\n --- /home/ubuntu/.tenstorrent-venv/bin/python(+0x25a566) [0x5602a3025566]\n --- /home/ubuntu/.tenstorrent-venv/bin/python(PyEval_EvalCode+0x86) [0x5602a3025436]\n --- /home/ubuntu/.tenstorrent-venv/bin/python(+0x25fb4d) [0x5602a302ab4d]\n --- /home/ubuntu/.tenstorrent-venv/bin/python(+0x18b419) [0x5602a2f56419]\n --- /home/ubuntu/.tenstorrent-venv/bin/python(_PyEval_EvalFrameDefault+0x6c0) [0x5602a2f40820]\n --- /home/ubuntu/.tenstorrent-venv/bin/python(+0x1a7270) [0x5602a2f72270]\n --- /home/ubuntu/.tenstorrent-venv/bin/python(_PyEval_EvalFrameDefault+0x278e) [0x5602a2f428ee]\n --- /home/ubuntu/.tenstorrent-venv/bin/python(+0x1a7270) [0x5602a2f72270]\n --- /home/ubuntu/.tenstorrent-venv/bin/python(_PyEval_EvalFrameDefault+0x278e) [0x5602a2f428ee]\n --- /home/ubuntu/.tenstorrent-venv/bin/python(+0x1a7270) [0x5602a2f72270]\n --- /home/ubuntu/.tenstorrent-venv/bin/python(+0x277a5f) [0x5602a3042a5f]\n --- /home/ubuntu/.tenstorrent-venv/bin/python(+0x195eab) [0x5602a2f60eab]\n --- /home/ubuntu/.tenstorrent-venv/bin/python(_PyEval_EvalFrameDefault+0x807) [0x5602a2f40967]\n --- /home/ubuntu/.tenstorrent-venv/bin/python(_PyFunction_Vectorcall+0x7c) [0x5602a2f561bc]\n --- /home/ubuntu/.tenstorrent-venv/bin/python(_PyEval_EvalFrameDefault+0x6c0) [0x5602a2f40820]\n --- /home/ubuntu/.tenstorrent-venv/bin/python(_PyFunction_Vectorcall+0x7c) [0x5602a2f561bc]\n --- /home/ubuntu/.tenstorrent-venv/bin/python(_PyEval_EvalFrameDefault+0x807) [0x5602a2f40967]\n --- /home/ubuntu/.tenstorrent-venv/bin/python(+0x198311) [0x5602a2f63311]\n --- /home/ubuntu/.tenstorrent-venv/bin/python(PyObject_Call+0x122) [0x5602a2f63fb2]\n --- /home/ubuntu/.tenstorrent-venv/bin/python(_PyEval_EvalFrameDefault+0x2a8e) [0x5602a2f42bee]\n --- /home/ubuntu/.tenstorrent-venv/bin/python(+0x198311) [0x5602a2f63311]\n --- /home/ubuntu/.tenstorrent-venv/bin/python(_PyEval_EvalFrameDefault+0x1990) [0x5602a2f41af0]\n --- /home/ubuntu/.tenstorrent-venv/bin/python(+0x1a7270) [0x5602a2f72270]\n --- /home/ubuntu/.tenstorrent-venv/bin/python(_PyEval_EvalFrameDefault+0x278e) [0x5602a2f428ee]\n --- /home/ubuntu/.tenstorrent-venv/bin/python(+0x1a7270) [0x5602a2f72270]\n --- /home/ubuntu/.tenstorrent-venv/bin/python(_PyEval_EvalFrameDefault+0x278e) [0x5602a2f428ee]\n --- /home/ubuntu/.tenstorrent-venv/bin/python(+0x1a7270) [0x5602a2f72270]\n --- /home/ubuntu/.tenstorrent-venv/bin/python(_PyEval_EvalFrameDefault+0x278e) [0x5602a2f428ee]\n --- /home/ubuntu/.tenstorrent-venv/bin/python(+0x1a7270) [0x5602a2f72270]\n --- /home/ubuntu/.tenstorrent-venv/bin/python(_PyEval_EvalFrameDefault+0x278e) [0x5602a2f428ee]\n --- /home/ubuntu/.tenstorrent-venv/bin/python(+0x1a7270) [0x5602a2f72270]\n --- /home/ubuntu/.tenstorrent-venv/bin/python(_PyEval_EvalFrameDefault+0x278e) [0x5602a2f428ee]\n --- /home/ubuntu/.tenstorrent-venv/bin/python(+0x1a7270) [0x5602a2f72270]\n --- /usr/lib/python3.10/lib-dynload/_asyncio.cpython-310-x86_64-linux-gnu.so(+0x928e) [0x7fa2a405e28e]\n --- /usr/lib/python3.10/lib-dynload/_asyncio.cpython-310-x86_64-linux-gnu.so(+0xa49b) [0x7fa2a405f49b]\n --- /home/ubuntu/.tenstorrent-venv/bin/python(+0x18a384) [0x5602a2f55384]\n --- /home/ubuntu/.tenstorrent-venv/bin/python(+0x25bc65) [0x5602a3026c65]\n --- /home/ubuntu/.tenstorrent-venv/bin/python(+0x2c895a) [0x5602a309395a]\n --- /home/ubuntu/.tenstorrent-venv/bin/python(+0x17e50f) [0x5602a2f4950f]\n --- /home/ubuntu/.tenstorrent-venv/bin/python(_PyEval_EvalFrameDefault+0x65c3) [0x5602a2f46723]\n --- /home/ubuntu/.tenstorrent-venv/bin/python(_PyFunction_Vectorcall+0x7c) [0x5602a2f561bc]\n --- /home/ubuntu/.tenstorrent-venv/bin/python(_PyEval_EvalFrameDefault+0x807) [0x5602a2f40967]\n --- /home/ubuntu/.tenstorrent-venv/bin/python(_PyFunction_Vectorcall+0x7c) [0x5602a2f561bc]\n --- /home/ubuntu/.tenstorrent-venv/bin/python(_PyEval_EvalFrameDefault+0x807) [0x5602a2f40967]\n --- /home/ubuntu/.tenstorrent-venv/bin/python(_PyFunction_Vectorcall+0x7c) [0x5602a2f561bc]\n --- /home/ubuntu/.tenstorrent-venv/bin/python(_PyEval_EvalFrameDefault+0x807) [0x5602a2f40967]\n --- /home/ubuntu/.tenstorrent-venv/bin/python(_PyFunction_Vectorcall+0x7c) [0x5602a2f561bc]\n --- /home/ubuntu/.tenstorrent-venv/bin/python(_PyEval_EvalFrameDefault+0x807) [0x5602a2f40967]\n --- /home/ubuntu/.tenstorrent-venv/bin/python(_PyFunction_Vectorcall+0x7c) [0x5602a2f561bc]\n --- /home/ubuntu/.tenstorrent-venv/bin/python(_PyEval_EvalFrameDefault+0x807) [0x5602a2f40967]\n --- /home/ubuntu/.tenstorrent-venv/bin/python(+0x198311) [0x5602a2f63311]\n --- /home/ubuntu/.tenstorrent-venv/bin/python(_PyEval_EvalFrameDefault+0x5603) [0x5602a2f45763]\n --- /home/ubuntu/.tenstorrent-venv/bin/python(+0x25a566) [0x5602a3025566]\n --- /home/ubuntu/.tenstorrent-venv/bin/python(PyEval_EvalCode+0x86) [0x5602a3025436]\n --- /home/ubuntu/.tenstorrent-venv/bin/python(+0x25fb4d) [0x5602a302ab4d]\n --- /home/ubuntu/.tenstorrent-venv/bin/python(+0x18b419) [0x5602a2f56419]\n --- /home/ubuntu/.tenstorrent-venv/bin/python(_PyEval_EvalFrameDefault+0x6c0) [0x5602a2f40820]\n --- /home/ubuntu/.tenstorrent-venv/bin/python(_PyFunction_Vectorcall+0x7c) [0x5602a2f561bc]\n --- /home/ubuntu/.tenstorrent-venv/bin/python(_PyEval_EvalFrameDefault+0x6c0) [0x5602a2f40820]\n --- /home/ubuntu/.tenstorrent-venv/bin/python(_PyFunction_Vectorcall+0x7c) [0x5602a2f561bc]\n --- /home/ubuntu/.tenstorrent-venv/bin/python(+0x27545d) [0x5602a304045d]\n --- /home/ubuntu/.tenstorrent-venv/bin/python(Py_RunMain+0x128) [0x5602a303f218]\n --- /home/ubuntu/.tenstorrent-venv/bin/python(Py_BytesMain+0x2d) [0x5602a301947d]\n --- /lib/x86_64-linux-gnu/libc.so.6(+0x29d90) [0x7fa2a5474d90]\n --- /lib/x86_64-linux-gnu/libc.so.6(__libc_start_main+0x80) [0x7fa2a5474e40]\n --- /home/ubuntu/.tenstorrent-venv/bin/python(_start+0x25) [0x5602a3019375]\n",
     "output_type": "error",
     "traceback": [
      "\u001b[0;31m---------------------------------------------------------------------------\u001b[0m",
      "\u001b[0;31mRuntimeError\u001b[0m                              Traceback (most recent call last)",
      "Cell \u001b[0;32mIn[37], line 21\u001b[0m\n\u001b[1;32m     19\u001b[0m \u001b[38;5;28;01mwhile\u001b[39;00m \u001b[38;5;28;01mTrue\u001b[39;00m:\n\u001b[1;32m     20\u001b[0m     logits \u001b[38;5;241m=\u001b[39m model(input_tokens_tensor, causal_mask)  \u001b[38;5;66;03m# [1,1,1, vocab_size]\u001b[39;00m\n\u001b[0;32m---> 21\u001b[0m     \u001b[43mttml\u001b[49m\u001b[38;5;241;43m.\u001b[39;49m\u001b[43mops\u001b[49m\u001b[38;5;241;43m.\u001b[39;49m\u001b[43msample\u001b[49m\u001b[38;5;241;43m.\u001b[39;49m\u001b[43msample_op\u001b[49m\u001b[43m(\u001b[49m\u001b[43mlogits\u001b[49m\u001b[43m,\u001b[49m\u001b[43m \u001b[49m\u001b[38;5;241;43m1.0\u001b[39;49m\u001b[43m,\u001b[49m\u001b[43m \u001b[49m\u001b[38;5;241;43m42\u001b[39;49m\u001b[43m,\u001b[49m\u001b[43m \u001b[49m\u001b[43mlogits_mask_tensor\u001b[49m\u001b[43m)\u001b[49m\n",
      "\u001b[0;31mRuntimeError\u001b[0m: TT_FATAL @ /home/ubuntu/tt-metal/ttnn/cpp/ttnn/operations/eltwise/binary_ng/device/binary_ng_device_operation.cpp:301: a_dim == b_dim || a_dim == 1 || b_dim == 1\ninfo:\nBroadcasting rule violation for rank -1, dim a: 50257, dim b: 50272\nbacktrace:\n --- /home/ubuntu/tt-metal/build/lib/_ttnncpp.so(+0xaae4bb) [0x7fa14db4e4bb]\n --- ttnn::operations::binary_ng::BinaryNgDeviceOperation::validate_on_program_cache_hit(ttnn::operations::binary_ng::BinaryNgDeviceOperation::operation_attributes_t const&, ttnn::operations::binary_ng::BinaryNgDeviceOperation::tensor_args_t const&)\n --- ttnn::operations::binary_ng::BinaryNgDeviceOperation::validate_on_program_cache_miss(ttnn::operations::binary_ng::BinaryNgDeviceOperation::operation_attributes_t const&, ttnn::operations::binary_ng::BinaryNgDeviceOperation::tensor_args_t const&)\n --- /home/ubuntu/tt-metal/build/lib/_ttnncpp.so(_ZN4ttnn16device_operation6detail29launch_operation_with_adapterINS0_26MeshDeviceOperationAdapterINS_10operations9binary_ng23BinaryNgDeviceOperationEEEEEvRKNT_22operation_attributes_tERKNS8_13tensor_args_tERNS8_21tensor_return_value_tEPN2tt8tt_metal11distributed10MeshDeviceE+0x1af) [0x7fa14db081cf]\n --- ttnn::operations::binary_ng::BinaryNgDeviceOperation::tensor_return_value_t ttnn::device_operation::detail::launch_on_device<ttnn::operations::binary_ng::BinaryNgDeviceOperation>(ttnn::operations::binary_ng::BinaryNgDeviceOperation::operation_attributes_t const&, ttnn::operations::binary_ng::BinaryNgDeviceOperation::tensor_args_t const&)\n --- ttnn::operations::binary_ng::BinaryNgDeviceOperation::tensor_return_value_t ttnn::device_operation::detail::invoke<ttnn::operations::binary_ng::BinaryNgDeviceOperation>(ttnn::operations::binary_ng::BinaryNgDeviceOperation::operation_attributes_t const&, ttnn::operations::binary_ng::BinaryNgDeviceOperation::tensor_args_t const&)\n --- /home/ubuntu/tt-metal/build/lib/_ttnncpp.so(+0xa6789d) [0x7fa14db0789d]\n --- /home/ubuntu/tt-metal/build/lib/_ttnncpp.so(+0xa67524) [0x7fa14db07524]\n --- /home/ubuntu/tt-metal/build/lib/_ttnncpp.so(+0xa4ac67) [0x7fa14daeac67]\n --- ttnn::operations::binary::BinaryOperation<(ttnn::operations::binary::BinaryOpType)1>::invoke(tt::tt_metal::Tensor const&, tt::tt_metal::Tensor const&, std::optional<tt::tt_metal::DataType const> const&, std::optional<tt::tt_metal::MemoryConfig> const&, std::optional<tt::tt_metal::Tensor> const&, std::span<ttnn::operations::unary::BasicUnaryWithParam<float, int, unsigned int> const, 18446744073709551615ul>, std::span<ttnn::operations::unary::BasicUnaryWithParam<float, int, unsigned int> const, 18446744073709551615ul>, std::span<ttnn::operations::unary::BasicUnaryWithParam<float, int, unsigned int> const, 18446744073709551615ul>, std::optional<bool> const&)\n --- /home/ubuntu/tt-metal/tt-train/build/sources/ttml/_ttml.cpython-310-x86_64-linux-gnu.so(_ZNK4ttnn10decorators22registered_operation_tIXtlN7reflect6v1_2_512fixed_stringIcLm14EEEtlA15_cLc116ELc116ELc110ELc110ELc58ELc58ELc115ELc117ELc98ELc116ELc114ELc97ELc99ELc116EEEENS_10operations6binary15BinaryOperationILNS8_12BinaryOpTypeE1EEEE16invoke_compositeIJRN2tt8tt_metal6TensorESH_EEEDaDpOT_+0x10c) [0x7fa1503207ec]\n --- /home/ubuntu/tt-metal/tt-train/build/sources/ttml/_ttml.cpython-310-x86_64-linux-gnu.so(_ZNK4ttnn10decorators22registered_operation_tIXtlN7reflect6v1_2_512fixed_stringIcLm14EEEtlA15_cLc116ELc116ELc110ELc110ELc58ELc58ELc115ELc117ELc98ELc116ELc114ELc97ELc99ELc116EEEENS_10operations6binary15BinaryOperationILNS8_12BinaryOpTypeE1EEEE6invokeIJRN2tt8tt_metal6TensorESH_EEEDaDpOT_+0x30) [0x7fa1503206d0]\n --- /home/ubuntu/tt-metal/tt-train/build/sources/ttml/_ttml.cpython-310-x86_64-linux-gnu.so(_ZNK4ttnn10decorators22registered_operation_tIXtlN7reflect6v1_2_512fixed_stringIcLm14EEEtlA15_cLc116ELc116ELc110ELc110ELc58ELc58ELc115ELc117ELc98ELc116ELc114ELc97ELc99ELc116EEEENS_10operations6binary15BinaryOperationILNS8_12BinaryOpTypeE1EEEE13traced_invokeIJRN2tt8tt_metal6TensorESH_EEEDaDpOT_+0x89) [0x7fa150320639]\n --- /home/ubuntu/tt-metal/tt-train/build/sources/ttml/_ttml.cpython-310-x86_64-linux-gnu.so(_ZNK4ttnn10decorators22registered_operation_tIXtlN7reflect6v1_2_512fixed_stringIcLm14EEEtlA15_cLc116ELc116ELc110ELc110ELc58ELc58ELc115ELc117ELc98ELc116ELc114ELc97ELc99ELc116EEEENS_10operations6binary15BinaryOperationILNS8_12BinaryOpTypeE1EEEEclIJRN2tt8tt_metal6TensorESH_EEEDaDpOT_+0x30) [0x7fa15031f480]\n --- ttml::ttnn_fixed::sample(tt::tt_metal::Tensor const&, float, unsigned int, std::optional<tt::tt_metal::Tensor>)\n --- ttml::ops::sample_op(std::shared_ptr<ttml::autograd::Tensor> const&, float, unsigned int, std::shared_ptr<ttml::autograd::Tensor> const&)\n --- /home/ubuntu/tt-metal/tt-train/build/sources/ttml/_ttml.cpython-310-x86_64-linux-gnu.so(+0x55b28f) [0x7fa15025228f]\n --- /home/ubuntu/tt-metal/tt-train/build/sources/ttml/libnanobind.so(+0x1471c) [0x7fa25c85a71c]\n --- /home/ubuntu/.tenstorrent-venv/bin/python(_PyEval_EvalFrameDefault+0x5603) [0x5602a2f45763]\n --- /home/ubuntu/.tenstorrent-venv/bin/python(+0x25a566) [0x5602a3025566]\n --- /home/ubuntu/.tenstorrent-venv/bin/python(PyEval_EvalCode+0x86) [0x5602a3025436]\n --- /home/ubuntu/.tenstorrent-venv/bin/python(+0x25fb4d) [0x5602a302ab4d]\n --- /home/ubuntu/.tenstorrent-venv/bin/python(+0x18b419) [0x5602a2f56419]\n --- /home/ubuntu/.tenstorrent-venv/bin/python(_PyEval_EvalFrameDefault+0x6c0) [0x5602a2f40820]\n --- /home/ubuntu/.tenstorrent-venv/bin/python(+0x1a7270) [0x5602a2f72270]\n --- /home/ubuntu/.tenstorrent-venv/bin/python(_PyEval_EvalFrameDefault+0x278e) [0x5602a2f428ee]\n --- /home/ubuntu/.tenstorrent-venv/bin/python(+0x1a7270) [0x5602a2f72270]\n --- /home/ubuntu/.tenstorrent-venv/bin/python(_PyEval_EvalFrameDefault+0x278e) [0x5602a2f428ee]\n --- /home/ubuntu/.tenstorrent-venv/bin/python(+0x1a7270) [0x5602a2f72270]\n --- /home/ubuntu/.tenstorrent-venv/bin/python(+0x277a5f) [0x5602a3042a5f]\n --- /home/ubuntu/.tenstorrent-venv/bin/python(+0x195eab) [0x5602a2f60eab]\n --- /home/ubuntu/.tenstorrent-venv/bin/python(_PyEval_EvalFrameDefault+0x807) [0x5602a2f40967]\n --- /home/ubuntu/.tenstorrent-venv/bin/python(_PyFunction_Vectorcall+0x7c) [0x5602a2f561bc]\n --- /home/ubuntu/.tenstorrent-venv/bin/python(_PyEval_EvalFrameDefault+0x6c0) [0x5602a2f40820]\n --- /home/ubuntu/.tenstorrent-venv/bin/python(_PyFunction_Vectorcall+0x7c) [0x5602a2f561bc]\n --- /home/ubuntu/.tenstorrent-venv/bin/python(_PyEval_EvalFrameDefault+0x807) [0x5602a2f40967]\n --- /home/ubuntu/.tenstorrent-venv/bin/python(+0x198311) [0x5602a2f63311]\n --- /home/ubuntu/.tenstorrent-venv/bin/python(PyObject_Call+0x122) [0x5602a2f63fb2]\n --- /home/ubuntu/.tenstorrent-venv/bin/python(_PyEval_EvalFrameDefault+0x2a8e) [0x5602a2f42bee]\n --- /home/ubuntu/.tenstorrent-venv/bin/python(+0x198311) [0x5602a2f63311]\n --- /home/ubuntu/.tenstorrent-venv/bin/python(_PyEval_EvalFrameDefault+0x1990) [0x5602a2f41af0]\n --- /home/ubuntu/.tenstorrent-venv/bin/python(+0x1a7270) [0x5602a2f72270]\n --- /home/ubuntu/.tenstorrent-venv/bin/python(_PyEval_EvalFrameDefault+0x278e) [0x5602a2f428ee]\n --- /home/ubuntu/.tenstorrent-venv/bin/python(+0x1a7270) [0x5602a2f72270]\n --- /home/ubuntu/.tenstorrent-venv/bin/python(_PyEval_EvalFrameDefault+0x278e) [0x5602a2f428ee]\n --- /home/ubuntu/.tenstorrent-venv/bin/python(+0x1a7270) [0x5602a2f72270]\n --- /home/ubuntu/.tenstorrent-venv/bin/python(_PyEval_EvalFrameDefault+0x278e) [0x5602a2f428ee]\n --- /home/ubuntu/.tenstorrent-venv/bin/python(+0x1a7270) [0x5602a2f72270]\n --- /home/ubuntu/.tenstorrent-venv/bin/python(_PyEval_EvalFrameDefault+0x278e) [0x5602a2f428ee]\n --- /home/ubuntu/.tenstorrent-venv/bin/python(+0x1a7270) [0x5602a2f72270]\n --- /home/ubuntu/.tenstorrent-venv/bin/python(_PyEval_EvalFrameDefault+0x278e) [0x5602a2f428ee]\n --- /home/ubuntu/.tenstorrent-venv/bin/python(+0x1a7270) [0x5602a2f72270]\n --- /usr/lib/python3.10/lib-dynload/_asyncio.cpython-310-x86_64-linux-gnu.so(+0x928e) [0x7fa2a405e28e]\n --- /usr/lib/python3.10/lib-dynload/_asyncio.cpython-310-x86_64-linux-gnu.so(+0xa49b) [0x7fa2a405f49b]\n --- /home/ubuntu/.tenstorrent-venv/bin/python(+0x18a384) [0x5602a2f55384]\n --- /home/ubuntu/.tenstorrent-venv/bin/python(+0x25bc65) [0x5602a3026c65]\n --- /home/ubuntu/.tenstorrent-venv/bin/python(+0x2c895a) [0x5602a309395a]\n --- /home/ubuntu/.tenstorrent-venv/bin/python(+0x17e50f) [0x5602a2f4950f]\n --- /home/ubuntu/.tenstorrent-venv/bin/python(_PyEval_EvalFrameDefault+0x65c3) [0x5602a2f46723]\n --- /home/ubuntu/.tenstorrent-venv/bin/python(_PyFunction_Vectorcall+0x7c) [0x5602a2f561bc]\n --- /home/ubuntu/.tenstorrent-venv/bin/python(_PyEval_EvalFrameDefault+0x807) [0x5602a2f40967]\n --- /home/ubuntu/.tenstorrent-venv/bin/python(_PyFunction_Vectorcall+0x7c) [0x5602a2f561bc]\n --- /home/ubuntu/.tenstorrent-venv/bin/python(_PyEval_EvalFrameDefault+0x807) [0x5602a2f40967]\n --- /home/ubuntu/.tenstorrent-venv/bin/python(_PyFunction_Vectorcall+0x7c) [0x5602a2f561bc]\n --- /home/ubuntu/.tenstorrent-venv/bin/python(_PyEval_EvalFrameDefault+0x807) [0x5602a2f40967]\n --- /home/ubuntu/.tenstorrent-venv/bin/python(_PyFunction_Vectorcall+0x7c) [0x5602a2f561bc]\n --- /home/ubuntu/.tenstorrent-venv/bin/python(_PyEval_EvalFrameDefault+0x807) [0x5602a2f40967]\n --- /home/ubuntu/.tenstorrent-venv/bin/python(_PyFunction_Vectorcall+0x7c) [0x5602a2f561bc]\n --- /home/ubuntu/.tenstorrent-venv/bin/python(_PyEval_EvalFrameDefault+0x807) [0x5602a2f40967]\n --- /home/ubuntu/.tenstorrent-venv/bin/python(+0x198311) [0x5602a2f63311]\n --- /home/ubuntu/.tenstorrent-venv/bin/python(_PyEval_EvalFrameDefault+0x5603) [0x5602a2f45763]\n --- /home/ubuntu/.tenstorrent-venv/bin/python(+0x25a566) [0x5602a3025566]\n --- /home/ubuntu/.tenstorrent-venv/bin/python(PyEval_EvalCode+0x86) [0x5602a3025436]\n --- /home/ubuntu/.tenstorrent-venv/bin/python(+0x25fb4d) [0x5602a302ab4d]\n --- /home/ubuntu/.tenstorrent-venv/bin/python(+0x18b419) [0x5602a2f56419]\n --- /home/ubuntu/.tenstorrent-venv/bin/python(_PyEval_EvalFrameDefault+0x6c0) [0x5602a2f40820]\n --- /home/ubuntu/.tenstorrent-venv/bin/python(_PyFunction_Vectorcall+0x7c) [0x5602a2f561bc]\n --- /home/ubuntu/.tenstorrent-venv/bin/python(_PyEval_EvalFrameDefault+0x6c0) [0x5602a2f40820]\n --- /home/ubuntu/.tenstorrent-venv/bin/python(_PyFunction_Vectorcall+0x7c) [0x5602a2f561bc]\n --- /home/ubuntu/.tenstorrent-venv/bin/python(+0x27545d) [0x5602a304045d]\n --- /home/ubuntu/.tenstorrent-venv/bin/python(Py_RunMain+0x128) [0x5602a303f218]\n --- /home/ubuntu/.tenstorrent-venv/bin/python(Py_BytesMain+0x2d) [0x5602a301947d]\n --- /lib/x86_64-linux-gnu/libc.so.6(+0x29d90) [0x7fa2a5474d90]\n --- /lib/x86_64-linux-gnu/libc.so.6(__libc_start_main+0x80) [0x7fa2a5474e40]\n --- /home/ubuntu/.tenstorrent-venv/bin/python(_start+0x25) [0x5602a3019375]\n"
     ]
    }
   ],
   "source": [
    "model.eval()\n",
    "\n",
    "logits_mask = np.zeros((1, 1, 1, padded_vocab_size), dtype=np.float32)\n",
    "logits_mask[:, :, :, vocab_size:] = 1e4\n",
    "\n",
    "logits_mask_tensor = ttml.autograd.Tensor.from_numpy(logits_mask, ttml.Layout.ROW_MAJOR, ttml.autograd.DataType.BFLOAT16)   # [1,1,1,T], float32\n",
    "\n",
    "input_str = \"The difference between cats and dogs is:\"\n",
    "input_tokens = tokenizer.encode(input_str)\n",
    "\n",
    "if len(input_tokens) < transformer_cfg[\"max_sequence_length\"]:\n",
    "    input_tokens += [tokenizer.eos_token_id] * (transformer_cfg[\"max_sequence_length\"] - len(input_tokens))\n",
    "\n",
    "input_tokens_tensor = ttml.autograd.Tensor.from_numpy(np.array(input_tokens, dtype=np.int32).reshape(1, 1, 1, -1), ttml.Layout.TILE, ttml.autograd.DataType.UINT32)  # [1, seq_len], int32\n",
    "causal_mask = build_causal_mask(transformer_cfg[\"max_sequence_length\"])  # [1,1,seq_len,seq_len], float32\n",
    "\n",
    "# generator = ttml.autograd.AutoContext().get_generator()\n",
    "\n",
    "while True:\n",
    "    logits = model(input_tokens_tensor, causal_mask)  # [1,1,1, vocab_size]\n",
    "    ttml.ops.sample.sample_op(logits, 1.0, 42, logits_mask_tensor)"
   ]
  }
 ],
 "metadata": {
  "kernelspec": {
   "display_name": "Python 3",
   "language": "python",
   "name": "python3"
  },
  "language_info": {
   "codemirror_mode": {
    "name": "ipython",
    "version": 3
   },
   "file_extension": ".py",
   "mimetype": "text/x-python",
   "name": "python",
   "nbconvert_exporter": "python",
   "pygments_lexer": "ipython3",
   "version": "3.10.12"
  }
 },
 "nbformat": 4,
 "nbformat_minor": 5
}
