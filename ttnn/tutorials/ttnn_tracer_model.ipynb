{
 "cells": [
  {
   "cell_type": "markdown",
   "id": "b9702787-10f3-41b2-bd93-7b40d3e53383",
   "metadata": {},
   "source": [
    "# Tracing ttnn operations and torch modules/functions"
   ]
  },
  {
   "cell_type": "code",
   "execution_count": null,
   "id": "3979412c-eba9-4d94-9999-add423a6ea3e",
   "metadata": {},
   "outputs": [],
   "source": [
    "import os\n",
    "os.environ[\"TTNN_CONFIG_OVERRIDES\"] = \"{\\\"enable_fast_runtime_mode\\\": false}\""
   ]
  },
  {
   "cell_type": "code",
   "execution_count": null,
   "id": "dbd63fbb-f61c-48a4-85a8-1003586be3fc",
   "metadata": {
    "scrolled": true
   },
   "outputs": [],
   "source": [
    "import torch\n",
    "import transformers\n",
    "\n",
    "import ttnn\n",
    "from ttnn.tracer import trace, visualize"
   ]
  },
  {
   "cell_type": "code",
   "execution_count": null,
   "id": "361f2a1e-bb43-4c8a-ab4e-34d0dd424ebd",
   "metadata": {},
   "outputs": [],
   "source": [
    "transformers.logging.set_verbosity_error()"
   ]
  },
  {
   "cell_type": "markdown",
   "id": "162b41bd-cd48-44cc-90cb-0040393ff179",
   "metadata": {},
   "source": [
    "## Trace torch functions"
   ]
  },
  {
   "cell_type": "code",
   "execution_count": null,
   "id": "2d48f30d-de73-41a9-83b3-30e7a0dadd89",
   "metadata": {},
   "outputs": [],
   "source": [
    "with trace():\n",
    "    tensor = torch.randint(0, 100, (1, 64))\n",
    "    tensor = torch.exp(tensor)\n",
    "visualize(tensor)"
   ]
  },
  {
   "cell_type": "markdown",
   "id": "1b15becb-cbe3-4392-8957-ec3a304be505",
   "metadata": {},
   "source": [
    "## Trace torch functions and ttnn operations"
   ]
  },
  {
   "cell_type": "code",
   "execution_count": null,
   "id": "cc31f32f-5daf-4130-995d-fbe72a473d73",
   "metadata": {},
   "outputs": [],
   "source": [
    "with trace():\n",
    "    tensor = torch.randint(0, 100, (4, 64))\n",
    "    tensor = ttnn.from_torch(tensor)\n",
    "    tensor = ttnn.reshape(tensor, (2, 4, 32))\n",
    "    tensor = ttnn.to_torch(tensor)\n",
    "visualize(tensor)"
   ]
  },
  {
   "cell_type": "markdown",
   "id": "0c696468-19e6-459b-b17d-81301acb2ce2",
   "metadata": {},
   "source": [
    "## Trace torch functions, torch modules and ttnn operations"
   ]
  },
  {
   "cell_type": "code",
   "execution_count": null,
   "id": "93c05dbb-2f7f-47a8-966c-7eb1827754e3",
   "metadata": {},
   "outputs": [],
   "source": [
    "model_name = \"google/bert_uncased_L-4_H-256_A-4\"\n",
    "config = transformers.BertConfig.from_pretrained(model_name)\n",
    "model = transformers.models.bert.modeling_bert.BertSelfOutput(config).eval()\n",
    "\n",
    "with trace():\n",
    "    hidden_states = torch.rand((1, 64, config.hidden_size))\n",
    "    input_tensor = torch.rand((1, 64, config.hidden_size))\n",
    "    hidden_states = model(hidden_states, input_tensor)\n",
    "    output = ttnn.from_torch(hidden_states)\n",
    "visualize(output)"
   ]
  },
  {
   "cell_type": "markdown",
   "id": "82c31fdf-6604-4e90-8bca-beca9a32f543",
   "metadata": {},
   "source": [
    "## Trace models written using ttnn"
   ]
  },
  {
   "cell_type": "code",
   "execution_count": null,
   "id": "44c29371-cad0-421c-87b1-883522268151",
   "metadata": {},
   "outputs": [],
   "source": [
    "dispatch_core_type = ttnn.device.DispatchCoreType.ETH\n",
    "if os.environ.get(\"ARCH_NAME\") and \"grayskull\" in os.environ.get(\"ARCH_NAME\"):\n",
    "    dispatch_core_type = ttnn.device.DispatchCoreType.WORKER\n",
    "device = ttnn.open_device(device_id=0, l1_small_size=8192, dispatch_core_config=ttnn.device.DispatchCoreConfig(dispatch_core_type))"
   ]
  },
  {
   "cell_type": "code",
   "execution_count": null,
   "id": "c07b5ae4-3194-4605-983a-cf1228c7584e",
   "metadata": {},
   "outputs": [],
   "source": [
    "from models.demos.bert.tt import ttnn_bert\n",
    "from models.demos.bert.tt import ttnn_optimized_bert\n",
    "from ttnn.model_preprocessing import preprocess_model_parameters\n",
    "\n",
    "def ttnn_bert(bert):\n",
    "    model_name = \"phiyodr/bert-large-finetuned-squad2\"\n",
    "    \n",
    "    config = transformers.BertConfig.from_pretrained(model_name)\n",
    "    config.num_hidden_layers = 1\n",
    "    \n",
    "    batch_size = 8\n",
    "    sequence_size = 384\n",
    "            \n",
    "    parameters = preprocess_model_parameters(\n",
    "        initialize_model=lambda: transformers.BertForQuestionAnswering.from_pretrained(\n",
    "            model_name, config=config\n",
    "        ).eval(),\n",
    "        custom_preprocessor=bert.custom_preprocessor,\n",
    "        device=device,\n",
    "    )\n",
    "\n",
    "    with trace():\n",
    "        input_ids = torch.randint(0, config.vocab_size, (batch_size, sequence_size)).to(torch.int32)\n",
    "        torch_token_type_ids = torch.zeros((batch_size, sequence_size), dtype=torch.int32)\n",
    "        torch_position_ids = torch.zeros((batch_size, sequence_size), dtype=torch.int32)\n",
    "        torch_attention_mask = torch.zeros(1, sequence_size) if bert == ttnn_optimized_bert else None\n",
    "        \n",
    "\n",
    "        ttnn_bert_inputs = bert.preprocess_inputs(\n",
    "            input_ids,\n",
    "            torch_token_type_ids,\n",
    "            torch_position_ids,\n",
    "            torch_attention_mask,\n",
    "            device=device,\n",
    "        )\n",
    "    \n",
    "        output = bert.bert_for_question_answering(\n",
    "            config,\n",
    "            *ttnn_bert_inputs,\n",
    "            parameters=parameters,\n",
    "        )\n",
    "        output = ttnn.from_device(output)\n",
    "        \n",
    "    return visualize(output)"
   ]
  },
  {
   "cell_type": "code",
   "execution_count": null,
   "id": "b3ac463b-4640-4281-986d-bbf1a593b3c5",
   "metadata": {},
   "outputs": [],
   "source": [
    "ttnn_bert(ttnn_optimized_bert)"
   ]
  },
  {
   "cell_type": "code",
   "execution_count": null,
   "id": "85bc0083-0724-42df-b1ae-acda2b69fbcd",
   "metadata": {},
   "outputs": [],
   "source": [
    "ttnn.close_device(device)"
   ]
  }
 ],
 "metadata": {
  "kernelspec": {
   "display_name": "Python 3 (ipykernel)",
   "language": "python",
   "name": "python3"
  },
  "language_info": {
   "codemirror_mode": {
    "name": "ipython",
    "version": 3
   },
   "file_extension": ".py",
   "mimetype": "text/x-python",
   "name": "python",
   "nbconvert_exporter": "python",
   "pygments_lexer": "ipython3",
   "version": "3.8.10"
  }
 },
 "nbformat": 4,
 "nbformat_minor": 5
}
