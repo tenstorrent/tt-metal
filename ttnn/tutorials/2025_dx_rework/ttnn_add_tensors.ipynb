{
 "cells": [
  {
   "cell_type": "markdown",
   "id": "a9fc53da",
   "metadata": {},
   "source": [
    "# TTNN Add tensors tutorial\n",
    "\n",
    "We will review a simple example that demonstrates how to create two\n",
    "tensors and add them together using TT-NN, a high-level Python API\n",
    "designed for developers to run models like LLaMA, Mistral, Stable\n",
    "Diffusion, and more on Tenstorrent devices.\n",
    "\n",
    "Lets create the example file, `ttnn_add_tensors.py`\n",
    "\n",
    "## Import the necessary libraries"
   ]
  },
  {
   "cell_type": "code",
   "execution_count": null,
   "id": "bf748f2d",
   "metadata": {},
   "outputs": [],
   "source": [
    "import ttnn\n",
    "from loguru import logger"
   ]
  },
  {
   "cell_type": "markdown",
   "id": "98fa077a",
   "metadata": {},
   "source": [
    "## Open Tenstorrent device\n",
    "\n",
    "Create necessary device on which we will run our program."
   ]
  },
  {
   "cell_type": "code",
   "execution_count": null,
   "id": "8c57695f",
   "metadata": {},
   "outputs": [],
   "source": [
    "# Open Tenstorrent device\n",
    "device = ttnn.open_device(device_id=0)"
   ]
  },
  {
   "cell_type": "markdown",
   "id": "e77121e8",
   "metadata": {},
   "source": [
    "## Tensor Creation\n",
    "\n",
    "Create two TT-NN tensors, and initialize them with values 1 and 2\n",
    "respectively. The preferred shape of the tensors is (32, 32) which will\n",
    "match the hardware's tile size."
   ]
  },
  {
   "cell_type": "code",
   "execution_count": null,
   "id": "9cbb0e5f",
   "metadata": {},
   "outputs": [],
   "source": [
    "# Create two TT-NN tensors with TILE_LAYOUT\n",
    "tt_tensor1 = ttnn.full(\n",
    "    shape=(32, 32),\n",
    "    fill_value=1.0,\n",
    "    dtype=ttnn.float32,\n",
    "    layout=ttnn.TILE_LAYOUT,\n",
    "    device=device,\n",
    ")\n",
    "tt_tensor2 = ttnn.full(\n",
    "    shape=(32, 32),\n",
    "    fill_value=2.0,\n",
    "    dtype=ttnn.float32,\n",
    "    layout=ttnn.TILE_LAYOUT,\n",
    "    device=device,\n",
    ")\n",
    "logger.info(\"Input tensors:\")\n",
    "logger.info(tt_tensor1)\n",
    "logger.info(tt_tensor2)"
   ]
  },
  {
   "cell_type": "markdown",
   "id": "f49cd16d",
   "metadata": {},
   "source": [
    "## Perform the addition operation and convert back\n",
    "\n",
    "Now we can perform the addition operation on the two TT-NN tensors and\n",
    "log out the result."
   ]
  },
  {
   "cell_type": "code",
   "execution_count": null,
   "id": "063e9482",
   "metadata": {},
   "outputs": [],
   "source": [
    "# Perform eltwise addition on the device\n",
    "tt_result = ttnn.add(tt_tensor1, tt_tensor2)\n",
    "\n",
    "# Log output tensor\n",
    "logger.info(\"Output tensor:\")\n",
    "logger.info(tt_result)"
   ]
  },
  {
   "cell_type": "markdown",
   "id": "a3e11550",
   "metadata": {},
   "source": [
    "## Full example and output\n",
    "\n",
    "Lets put everything together in a complete example that can be run\n",
    "directly. This example will open a Tenstorrent device, create two\n",
    "tensors, perform the addition, and log the output tensor.\n",
    "\n",
    "ttnn_tutorials_basic_python/ttnn_add_tensors.py\n",
    "\n",
    "Running this script will output the input tensors and the result of\n",
    "their addition, which should be a tensor filled with 3s. As shown below\n",
    "\n",
    "``` console\n",
    "$ python3 $TT_METAL_HOME/ttnn/tutorials/basic_python/ttnn_add_tensors.py\n",
    "2025-06-23 09:36:58.211 | INFO     | __main__:main:29 - Input tensors:\n",
    "2025-06-23 09:36:58.211 | INFO     | __main__:main:30 - ttnn.Tensor([[ 1.00000,  1.00000,  ...,  1.00000,  1.00000],\n",
    "            [ 1.00000,  1.00000,  ...,  1.00000,  1.00000],\n",
    "            ...,\n",
    "            [ 1.00000,  1.00000,  ...,  1.00000,  1.00000],\n",
    "            [ 1.00000,  1.00000,  ...,  1.00000,  1.00000]], shape=Shape([32, 32]), dtype=DataType::FLOAT32, layout=Layout::TILE)\n",
    "2025-06-23 09:36:58.211 | INFO     | __main__:main:31 - ttnn.Tensor([[ 2.00000,  2.00000,  ...,  2.00000,  2.00000],\n",
    "            [ 2.00000,  2.00000,  ...,  2.00000,  2.00000],\n",
    "            ...,\n",
    "            [ 2.00000,  2.00000,  ...,  2.00000,  2.00000],\n",
    "            [ 2.00000,  2.00000,  ...,  2.00000,  2.00000]], shape=Shape([32, 32]), dtype=DataType::FLOAT32, layout=Layout::TILE)\n",
    "2025-06-23 09:37:00.524 | INFO     | __main__:main:37 - Output tensor:\n",
    "2025-06-23 09:37:00.525 | INFO     | __main__:main:38 - ttnn.Tensor([[ 3.00000,  3.00000,  ...,  3.00000,  3.00000],\n",
    "            [ 3.00000,  3.00000,  ...,  3.00000,  3.00000],\n",
    "            ...,\n",
    "            [ 3.00000,  3.00000,  ...,  3.00000,  3.00000],\n",
    "            [ 3.00000,  3.00000,  ...,  3.00000,  3.00000]], shape=Shape([32, 32]), dtype=DataType::FLOAT32, layout=Layout::TILE)\n",
    "```"
   ]
  },
  {
   "cell_type": "markdown",
   "id": "d4703a9a",
   "metadata": {},
   "source": [
    "## Close device"
   ]
  },
  {
   "cell_type": "code",
   "execution_count": null,
   "id": "29a8e1ac",
   "metadata": {},
   "outputs": [],
   "source": [
    "ttnn.close_device(device)\n",
    "logger.info(\"Device closed successfully.\")"
   ]
  }
 ],
 "metadata": {
  "language_info": {
   "name": "python"
  }
 },
 "nbformat": 4,
 "nbformat_minor": 5
}
